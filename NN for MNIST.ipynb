{
  "nbformat": 4,
  "nbformat_minor": 0,
  "metadata": {
    "colab": {
      "name": "Assigment1.ipynb",
      "provenance": [],
      "collapsed_sections": [],
      "include_colab_link": true
    },
    "kernelspec": {
      "name": "python3",
      "display_name": "Python 3"
    },
    "language_info": {
      "name": "python"
    }
  },
  "cells": [
    {
      "cell_type": "markdown",
      "metadata": {
        "id": "view-in-github",
        "colab_type": "text"
      },
      "source": [
        "<a href=\"https://colab.research.google.com/github/sunyux/Neural-network-for-MNIST/blob/main/NN%20for%20MNIST.ipynb\" target=\"_parent\"><img src=\"https://colab.research.google.com/assets/colab-badge.svg\" alt=\"Open In Colab\"/></a>"
      ]
    },
    {
      "cell_type": "code",
      "execution_count": null,
      "metadata": {
        "id": "k3ru41UKGQ2D"
      },
      "outputs": [],
      "source": [
        "import csv\n",
        "import numpy as np\n",
        "import random\n",
        "from sklearn.metrics import confusion_matrix\n",
        "import matplotlib.pyplot as plt"
      ]
    },
    {
      "cell_type": "code",
      "source": [
        "from keras.datasets import mnist\n",
        "from keras.utils import np_utils\n",
        "import numpy as np"
      ],
      "metadata": {
        "id": "z1smN5u8Owgv"
      },
      "execution_count": null,
      "outputs": []
    },
    {
      "cell_type": "code",
      "source": [
        "from keras.models import Sequential, load_model\n",
        "from keras.layers.core import Dense, Dropout, Activation, Flatten\n",
        "from keras.utils import np_utils"
      ],
      "metadata": {
        "id": "x5sZCHiDMDc_"
      },
      "execution_count": null,
      "outputs": []
    },
    {
      "cell_type": "code",
      "source": [
        "from keras.optimizers import gradient_descent_v2"
      ],
      "metadata": {
        "id": "MECs-u9It0cV"
      },
      "execution_count": null,
      "outputs": []
    },
    {
      "cell_type": "code",
      "source": [
        "from keras.utils.np_utils import to_categorical"
      ],
      "metadata": {
        "id": "TOK1Bs5z2Ici"
      },
      "execution_count": null,
      "outputs": []
    },
    {
      "cell_type": "code",
      "source": [
        "\n",
        "def get_data():  \n",
        "   #get mnist data from keras \n",
        "    (x_train, y_train), (x_test, y_test) = mnist.load_data()\n",
        "    #get the whole size of MNIST train set\n",
        "    whole_size=len(x_train)\n",
        "    print(whole_size)\n",
        "    #choose the size of train, 0.5 is half, 0.25 is quarter \n",
        "    zoom_out=0.5\n",
        "    number=int(whole_size * zoom_out)\n",
        "    x_train = x_train[0:number]\n",
        "    y_train = y_train[0:number]\n",
        "    #Preprocessing: Scale the data values to be between 0 and 1 by dividing by 255\n",
        "    x_train = x_train.astype('float32')/255\n",
        "    x_test = x_test.astype('float32')/255\n",
        "    y_train = to_categorical(y_train, 10)\n",
        "    y_test = to_categorical(y_test, 10)\n",
        "    print(x_train.shape)\n",
        "    print(y_train.shape)\n",
        "    print(x_test.shape)\n",
        "    print(y_test.shape)\n",
        "    return (x_train, y_train), (x_test, y_test)\n",
        "\n",
        "(x_train, y_train), (x_test, y_test) = get_data()\n",
        "\n",
        "get_data()"
      ],
      "metadata": {
        "colab": {
          "base_uri": "https://localhost:8080/"
        },
        "id": "r1uylYRtOrsg",
        "outputId": "9de9fde1-dd27-40dc-ca60-a8401c44ad0c"
      },
      "execution_count": null,
      "outputs": [
        {
          "output_type": "stream",
          "name": "stdout",
          "text": [
            "60000\n",
            "(30000, 28, 28)\n",
            "(30000, 10)\n",
            "(10000, 28, 28)\n",
            "(10000, 10)\n",
            "60000\n",
            "(30000, 28, 28)\n",
            "(30000, 10)\n",
            "(10000, 28, 28)\n",
            "(10000, 10)\n"
          ]
        },
        {
          "output_type": "execute_result",
          "data": {
            "text/plain": [
              "((array([[[0., 0., 0., ..., 0., 0., 0.],\n",
              "          [0., 0., 0., ..., 0., 0., 0.],\n",
              "          [0., 0., 0., ..., 0., 0., 0.],\n",
              "          ...,\n",
              "          [0., 0., 0., ..., 0., 0., 0.],\n",
              "          [0., 0., 0., ..., 0., 0., 0.],\n",
              "          [0., 0., 0., ..., 0., 0., 0.]],\n",
              "  \n",
              "         [[0., 0., 0., ..., 0., 0., 0.],\n",
              "          [0., 0., 0., ..., 0., 0., 0.],\n",
              "          [0., 0., 0., ..., 0., 0., 0.],\n",
              "          ...,\n",
              "          [0., 0., 0., ..., 0., 0., 0.],\n",
              "          [0., 0., 0., ..., 0., 0., 0.],\n",
              "          [0., 0., 0., ..., 0., 0., 0.]],\n",
              "  \n",
              "         [[0., 0., 0., ..., 0., 0., 0.],\n",
              "          [0., 0., 0., ..., 0., 0., 0.],\n",
              "          [0., 0., 0., ..., 0., 0., 0.],\n",
              "          ...,\n",
              "          [0., 0., 0., ..., 0., 0., 0.],\n",
              "          [0., 0., 0., ..., 0., 0., 0.],\n",
              "          [0., 0., 0., ..., 0., 0., 0.]],\n",
              "  \n",
              "         ...,\n",
              "  \n",
              "         [[0., 0., 0., ..., 0., 0., 0.],\n",
              "          [0., 0., 0., ..., 0., 0., 0.],\n",
              "          [0., 0., 0., ..., 0., 0., 0.],\n",
              "          ...,\n",
              "          [0., 0., 0., ..., 0., 0., 0.],\n",
              "          [0., 0., 0., ..., 0., 0., 0.],\n",
              "          [0., 0., 0., ..., 0., 0., 0.]],\n",
              "  \n",
              "         [[0., 0., 0., ..., 0., 0., 0.],\n",
              "          [0., 0., 0., ..., 0., 0., 0.],\n",
              "          [0., 0., 0., ..., 0., 0., 0.],\n",
              "          ...,\n",
              "          [0., 0., 0., ..., 0., 0., 0.],\n",
              "          [0., 0., 0., ..., 0., 0., 0.],\n",
              "          [0., 0., 0., ..., 0., 0., 0.]],\n",
              "  \n",
              "         [[0., 0., 0., ..., 0., 0., 0.],\n",
              "          [0., 0., 0., ..., 0., 0., 0.],\n",
              "          [0., 0., 0., ..., 0., 0., 0.],\n",
              "          ...,\n",
              "          [0., 0., 0., ..., 0., 0., 0.],\n",
              "          [0., 0., 0., ..., 0., 0., 0.],\n",
              "          [0., 0., 0., ..., 0., 0., 0.]]], dtype=float32),\n",
              "  array([[0., 0., 0., ..., 0., 0., 0.],\n",
              "         [1., 0., 0., ..., 0., 0., 0.],\n",
              "         [0., 0., 0., ..., 0., 0., 0.],\n",
              "         ...,\n",
              "         [0., 0., 0., ..., 0., 0., 0.],\n",
              "         [0., 0., 0., ..., 1., 0., 0.],\n",
              "         [0., 1., 0., ..., 0., 0., 0.]], dtype=float32)),\n",
              " (array([[[0., 0., 0., ..., 0., 0., 0.],\n",
              "          [0., 0., 0., ..., 0., 0., 0.],\n",
              "          [0., 0., 0., ..., 0., 0., 0.],\n",
              "          ...,\n",
              "          [0., 0., 0., ..., 0., 0., 0.],\n",
              "          [0., 0., 0., ..., 0., 0., 0.],\n",
              "          [0., 0., 0., ..., 0., 0., 0.]],\n",
              "  \n",
              "         [[0., 0., 0., ..., 0., 0., 0.],\n",
              "          [0., 0., 0., ..., 0., 0., 0.],\n",
              "          [0., 0., 0., ..., 0., 0., 0.],\n",
              "          ...,\n",
              "          [0., 0., 0., ..., 0., 0., 0.],\n",
              "          [0., 0., 0., ..., 0., 0., 0.],\n",
              "          [0., 0., 0., ..., 0., 0., 0.]],\n",
              "  \n",
              "         [[0., 0., 0., ..., 0., 0., 0.],\n",
              "          [0., 0., 0., ..., 0., 0., 0.],\n",
              "          [0., 0., 0., ..., 0., 0., 0.],\n",
              "          ...,\n",
              "          [0., 0., 0., ..., 0., 0., 0.],\n",
              "          [0., 0., 0., ..., 0., 0., 0.],\n",
              "          [0., 0., 0., ..., 0., 0., 0.]],\n",
              "  \n",
              "         ...,\n",
              "  \n",
              "         [[0., 0., 0., ..., 0., 0., 0.],\n",
              "          [0., 0., 0., ..., 0., 0., 0.],\n",
              "          [0., 0., 0., ..., 0., 0., 0.],\n",
              "          ...,\n",
              "          [0., 0., 0., ..., 0., 0., 0.],\n",
              "          [0., 0., 0., ..., 0., 0., 0.],\n",
              "          [0., 0., 0., ..., 0., 0., 0.]],\n",
              "  \n",
              "         [[0., 0., 0., ..., 0., 0., 0.],\n",
              "          [0., 0., 0., ..., 0., 0., 0.],\n",
              "          [0., 0., 0., ..., 0., 0., 0.],\n",
              "          ...,\n",
              "          [0., 0., 0., ..., 0., 0., 0.],\n",
              "          [0., 0., 0., ..., 0., 0., 0.],\n",
              "          [0., 0., 0., ..., 0., 0., 0.]],\n",
              "  \n",
              "         [[0., 0., 0., ..., 0., 0., 0.],\n",
              "          [0., 0., 0., ..., 0., 0., 0.],\n",
              "          [0., 0., 0., ..., 0., 0., 0.],\n",
              "          ...,\n",
              "          [0., 0., 0., ..., 0., 0., 0.],\n",
              "          [0., 0., 0., ..., 0., 0., 0.],\n",
              "          [0., 0., 0., ..., 0., 0., 0.]]], dtype=float32),\n",
              "  array([[0., 0., 0., ..., 1., 0., 0.],\n",
              "         [0., 0., 1., ..., 0., 0., 0.],\n",
              "         [0., 1., 0., ..., 0., 0., 0.],\n",
              "         ...,\n",
              "         [0., 0., 0., ..., 0., 0., 0.],\n",
              "         [0., 0., 0., ..., 0., 0., 0.],\n",
              "         [0., 0., 0., ..., 0., 0., 0.]], dtype=float32)))"
            ]
          },
          "metadata": {},
          "execution_count": 6
        }
      ]
    },
    {
      "cell_type": "code",
      "source": [
        "from keras.layers import Input, Flatten, Dense\n",
        "from keras.models import Model"
      ],
      "metadata": {
        "id": "C6kTpZXQ35uP"
      },
      "execution_count": null,
      "outputs": []
    },
    {
      "cell_type": "code",
      "source": [
        "# Neural network\n",
        "input_layer = Input(shape=(28,28))\n",
        "x = Flatten()(input_layer)\n",
        "x = Dense(units=100, activation = 'sigmoid')(x)\n",
        "output_layer = Dense(units=10, activation = 'sigmoid')(x)\n",
        "model = Model(input_layer, output_layer)"
      ],
      "metadata": {
        "id": "7IFhUiFjwwK1"
      },
      "execution_count": null,
      "outputs": []
    },
    {
      "cell_type": "code",
      "source": [
        "# compile mode\n",
        "opt = gradient_descent_v2.SGD(learning_rate=0.1, momentum=0.9)\n",
        "model.compile(optimizer=opt, loss='categorical_crossentropy', metrics=['accuracy'])"
      ],
      "metadata": {
        "id": "nV6TqMXGxpR0"
      },
      "execution_count": null,
      "outputs": []
    },
    {
      "cell_type": "code",
      "source": [
        "model.summary()"
      ],
      "metadata": {
        "colab": {
          "base_uri": "https://localhost:8080/"
        },
        "id": "KTakIEH31QMM",
        "outputId": "a756507c-31bf-4a65-96dc-7a9e49639675"
      },
      "execution_count": null,
      "outputs": [
        {
          "output_type": "stream",
          "name": "stdout",
          "text": [
            "Model: \"model\"\n",
            "_________________________________________________________________\n",
            " Layer (type)                Output Shape              Param #   \n",
            "=================================================================\n",
            " input_1 (InputLayer)        [(None, 28, 28)]          0         \n",
            "                                                                 \n",
            " flatten (Flatten)           (None, 784)               0         \n",
            "                                                                 \n",
            " dense (Dense)               (None, 100)               78500     \n",
            "                                                                 \n",
            " dense_1 (Dense)             (None, 10)                1010      \n",
            "                                                                 \n",
            "=================================================================\n",
            "Total params: 79,510\n",
            "Trainable params: 79,510\n",
            "Non-trainable params: 0\n",
            "_________________________________________________________________\n"
          ]
        }
      ]
    },
    {
      "cell_type": "code",
      "source": [
        "history = model.fit(x_train, y_train,validation_data = (x_test,y_test), epochs=50, batch_size=64)"
      ],
      "metadata": {
        "colab": {
          "base_uri": "https://localhost:8080/"
        },
        "id": "HoIecEcY6w6S",
        "outputId": "0fff58c6-b516-4e39-b9f3-e81344bf2ecd"
      },
      "execution_count": null,
      "outputs": [
        {
          "output_type": "stream",
          "name": "stdout",
          "text": [
            "Epoch 1/50\n",
            "469/469 [==============================] - 5s 8ms/step - loss: 0.4444 - accuracy: 0.8669 - val_loss: 0.2518 - val_accuracy: 0.9245\n",
            "Epoch 2/50\n",
            "469/469 [==============================] - 3s 7ms/step - loss: 0.2250 - accuracy: 0.9334 - val_loss: 0.2121 - val_accuracy: 0.9365\n",
            "Epoch 3/50\n",
            "469/469 [==============================] - 3s 7ms/step - loss: 0.1712 - accuracy: 0.9498 - val_loss: 0.1641 - val_accuracy: 0.9500\n",
            "Epoch 4/50\n",
            "469/469 [==============================] - 4s 8ms/step - loss: 0.1376 - accuracy: 0.9587 - val_loss: 0.1383 - val_accuracy: 0.9595\n",
            "Epoch 5/50\n",
            "469/469 [==============================] - 2s 5ms/step - loss: 0.1141 - accuracy: 0.9675 - val_loss: 0.1259 - val_accuracy: 0.9629\n",
            "Epoch 6/50\n",
            "469/469 [==============================] - 2s 4ms/step - loss: 0.0944 - accuracy: 0.9722 - val_loss: 0.1209 - val_accuracy: 0.9633\n",
            "Epoch 7/50\n",
            "469/469 [==============================] - 2s 4ms/step - loss: 0.0805 - accuracy: 0.9775 - val_loss: 0.1193 - val_accuracy: 0.9638\n",
            "Epoch 8/50\n",
            "469/469 [==============================] - 2s 4ms/step - loss: 0.0683 - accuracy: 0.9807 - val_loss: 0.1064 - val_accuracy: 0.9687\n",
            "Epoch 9/50\n",
            "469/469 [==============================] - 3s 6ms/step - loss: 0.0592 - accuracy: 0.9837 - val_loss: 0.1049 - val_accuracy: 0.9691\n",
            "Epoch 10/50\n",
            "469/469 [==============================] - 2s 4ms/step - loss: 0.0516 - accuracy: 0.9863 - val_loss: 0.1029 - val_accuracy: 0.9690\n",
            "Epoch 11/50\n",
            "469/469 [==============================] - 2s 4ms/step - loss: 0.0450 - accuracy: 0.9881 - val_loss: 0.0973 - val_accuracy: 0.9697\n",
            "Epoch 12/50\n",
            "469/469 [==============================] - 2s 4ms/step - loss: 0.0396 - accuracy: 0.9904 - val_loss: 0.0982 - val_accuracy: 0.9709\n",
            "Epoch 13/50\n",
            "469/469 [==============================] - 2s 4ms/step - loss: 0.0346 - accuracy: 0.9921 - val_loss: 0.0937 - val_accuracy: 0.9712\n",
            "Epoch 14/50\n",
            "469/469 [==============================] - 2s 4ms/step - loss: 0.0311 - accuracy: 0.9934 - val_loss: 0.0972 - val_accuracy: 0.9703\n",
            "Epoch 15/50\n",
            "469/469 [==============================] - 2s 4ms/step - loss: 0.0268 - accuracy: 0.9948 - val_loss: 0.0931 - val_accuracy: 0.9719\n",
            "Epoch 16/50\n",
            "469/469 [==============================] - 2s 4ms/step - loss: 0.0237 - accuracy: 0.9955 - val_loss: 0.0906 - val_accuracy: 0.9714\n",
            "Epoch 17/50\n",
            "469/469 [==============================] - 2s 4ms/step - loss: 0.0208 - accuracy: 0.9967 - val_loss: 0.0913 - val_accuracy: 0.9732\n",
            "Epoch 18/50\n",
            "469/469 [==============================] - 2s 4ms/step - loss: 0.0186 - accuracy: 0.9974 - val_loss: 0.0911 - val_accuracy: 0.9724\n",
            "Epoch 19/50\n",
            "469/469 [==============================] - 2s 4ms/step - loss: 0.0166 - accuracy: 0.9978 - val_loss: 0.0953 - val_accuracy: 0.9714\n",
            "Epoch 20/50\n",
            "469/469 [==============================] - 2s 4ms/step - loss: 0.0150 - accuracy: 0.9981 - val_loss: 0.0893 - val_accuracy: 0.9717\n",
            "Epoch 21/50\n",
            "469/469 [==============================] - 2s 4ms/step - loss: 0.0134 - accuracy: 0.9988 - val_loss: 0.0905 - val_accuracy: 0.9724\n",
            "Epoch 22/50\n",
            "469/469 [==============================] - 2s 4ms/step - loss: 0.0120 - accuracy: 0.9992 - val_loss: 0.0900 - val_accuracy: 0.9729\n",
            "Epoch 23/50\n",
            "469/469 [==============================] - 2s 4ms/step - loss: 0.0109 - accuracy: 0.9993 - val_loss: 0.0924 - val_accuracy: 0.9733\n",
            "Epoch 24/50\n",
            "469/469 [==============================] - 2s 4ms/step - loss: 0.0100 - accuracy: 0.9997 - val_loss: 0.0939 - val_accuracy: 0.9722\n",
            "Epoch 25/50\n",
            "469/469 [==============================] - 2s 4ms/step - loss: 0.0091 - accuracy: 0.9996 - val_loss: 0.0918 - val_accuracy: 0.9724\n",
            "Epoch 26/50\n",
            "469/469 [==============================] - 2s 3ms/step - loss: 0.0084 - accuracy: 0.9997 - val_loss: 0.0920 - val_accuracy: 0.9735\n",
            "Epoch 27/50\n",
            "469/469 [==============================] - 2s 3ms/step - loss: 0.0077 - accuracy: 0.9998 - val_loss: 0.0923 - val_accuracy: 0.9734\n",
            "Epoch 28/50\n",
            "469/469 [==============================] - 2s 4ms/step - loss: 0.0072 - accuracy: 0.9998 - val_loss: 0.0929 - val_accuracy: 0.9733\n",
            "Epoch 29/50\n",
            "469/469 [==============================] - 2s 4ms/step - loss: 0.0067 - accuracy: 1.0000 - val_loss: 0.0936 - val_accuracy: 0.9730\n",
            "Epoch 30/50\n",
            "469/469 [==============================] - 2s 4ms/step - loss: 0.0063 - accuracy: 1.0000 - val_loss: 0.0937 - val_accuracy: 0.9726\n",
            "Epoch 31/50\n",
            "469/469 [==============================] - 2s 4ms/step - loss: 0.0058 - accuracy: 1.0000 - val_loss: 0.0940 - val_accuracy: 0.9726\n",
            "Epoch 32/50\n",
            "469/469 [==============================] - 2s 4ms/step - loss: 0.0055 - accuracy: 1.0000 - val_loss: 0.0933 - val_accuracy: 0.9736\n",
            "Epoch 33/50\n",
            "469/469 [==============================] - 2s 4ms/step - loss: 0.0052 - accuracy: 0.9999 - val_loss: 0.0931 - val_accuracy: 0.9732\n",
            "Epoch 34/50\n",
            "469/469 [==============================] - 2s 4ms/step - loss: 0.0050 - accuracy: 1.0000 - val_loss: 0.0939 - val_accuracy: 0.9729\n",
            "Epoch 35/50\n",
            "469/469 [==============================] - 2s 4ms/step - loss: 0.0047 - accuracy: 0.9999 - val_loss: 0.0936 - val_accuracy: 0.9728\n",
            "Epoch 36/50\n",
            "469/469 [==============================] - 2s 4ms/step - loss: 0.0045 - accuracy: 1.0000 - val_loss: 0.0950 - val_accuracy: 0.9729\n",
            "Epoch 37/50\n",
            "469/469 [==============================] - 2s 4ms/step - loss: 0.0042 - accuracy: 1.0000 - val_loss: 0.0951 - val_accuracy: 0.9732\n",
            "Epoch 38/50\n",
            "469/469 [==============================] - 2s 4ms/step - loss: 0.0041 - accuracy: 1.0000 - val_loss: 0.0953 - val_accuracy: 0.9728\n",
            "Epoch 39/50\n",
            "469/469 [==============================] - 2s 4ms/step - loss: 0.0039 - accuracy: 1.0000 - val_loss: 0.0953 - val_accuracy: 0.9733\n",
            "Epoch 40/50\n",
            "469/469 [==============================] - 2s 4ms/step - loss: 0.0037 - accuracy: 1.0000 - val_loss: 0.0967 - val_accuracy: 0.9733\n",
            "Epoch 41/50\n",
            "469/469 [==============================] - 2s 4ms/step - loss: 0.0036 - accuracy: 1.0000 - val_loss: 0.0954 - val_accuracy: 0.9729\n",
            "Epoch 42/50\n",
            "469/469 [==============================] - 2s 4ms/step - loss: 0.0034 - accuracy: 1.0000 - val_loss: 0.0960 - val_accuracy: 0.9733\n",
            "Epoch 43/50\n",
            "469/469 [==============================] - 2s 4ms/step - loss: 0.0033 - accuracy: 1.0000 - val_loss: 0.0964 - val_accuracy: 0.9732\n",
            "Epoch 44/50\n",
            "469/469 [==============================] - 2s 4ms/step - loss: 0.0032 - accuracy: 1.0000 - val_loss: 0.0964 - val_accuracy: 0.9731\n",
            "Epoch 45/50\n",
            "469/469 [==============================] - 2s 4ms/step - loss: 0.0031 - accuracy: 1.0000 - val_loss: 0.0973 - val_accuracy: 0.9730\n",
            "Epoch 46/50\n",
            "469/469 [==============================] - 2s 4ms/step - loss: 0.0030 - accuracy: 1.0000 - val_loss: 0.0969 - val_accuracy: 0.9730\n",
            "Epoch 47/50\n",
            "469/469 [==============================] - 2s 4ms/step - loss: 0.0029 - accuracy: 1.0000 - val_loss: 0.0971 - val_accuracy: 0.9725\n",
            "Epoch 48/50\n",
            "469/469 [==============================] - 2s 4ms/step - loss: 0.0028 - accuracy: 1.0000 - val_loss: 0.0976 - val_accuracy: 0.9731\n",
            "Epoch 49/50\n",
            "469/469 [==============================] - 2s 4ms/step - loss: 0.0027 - accuracy: 1.0000 - val_loss: 0.0977 - val_accuracy: 0.9730\n",
            "Epoch 50/50\n",
            "469/469 [==============================] - 2s 4ms/step - loss: 0.0026 - accuracy: 1.0000 - val_loss: 0.0974 - val_accuracy: 0.9733\n"
          ]
        }
      ]
    },
    {
      "cell_type": "code",
      "source": [
        "import matplotlib.pyplot as plt\n",
        "plt.plot(history.history['accuracy'])\n",
        "plt.plot(history.history['val_accuracy'])\n",
        "plt.title('Model accuracy')\n",
        "plt.ylabel('Accuracy')\n",
        "plt.xlabel('Epoch')\n",
        "plt.legend(['Train', 'Test'], loc='upper left')\n",
        "plt.show()"
      ],
      "metadata": {
        "colab": {
          "base_uri": "https://localhost:8080/",
          "height": 295
        },
        "id": "s97UkFz95BUa",
        "outputId": "fbc2a4b2-3a6a-4c3f-ac75-f87b42003cda"
      },
      "execution_count": null,
      "outputs": [
        {
          "output_type": "display_data",
          "data": {
            "text/plain": [
              "<Figure size 432x288 with 1 Axes>"
            ],
            "image/png": "[encoded data removed]"
          },
          "metadata": {
            "needs_background": "light"
          }
        }
      ]
    },
    {
      "cell_type": "code",
      "source": [
        "y_pred=model.predict(x_test) \n",
        "y_pred=np.argmax(y_pred, axis=1)\n",
        "y_test=np.argmax(y_test, axis=1)\n",
        "cm = confusion_matrix(y_test, y_pred)\n",
        "print(cm)"
      ],
      "metadata": {
        "colab": {
          "base_uri": "https://localhost:8080/"
        },
        "id": "ggdtI5QgBZNN",
        "outputId": "7c10b765-c0e8-46a3-b75c-46491fdf8000"
      },
      "execution_count": null,
      "outputs": [
        {
          "output_type": "stream",
          "name": "stdout",
          "text": [
            "[[ 965    0    0    2    1    1    4    2    3    2]\n",
            " [   0 1123    4    0    0    1    3    1    3    0]\n",
            " [   5    0 1007    3    2    0    1    7    7    0]\n",
            " [   0    0    8  981    0    7    0    8    3    3]\n",
            " [   1    0    3    2  957    0    4    2    2   11]\n",
            " [   3    1    0   13    2  856    9    1    4    3]\n",
            " [   6    2    1    1    3    7  933    1    4    0]\n",
            " [   1    5    9    3    0    1    0  997    5    7]\n",
            " [   4    0    2    6    3    3    4    5  945    2]\n",
            " [   3    3    1    6   12    6    1    6    2  969]]\n"
          ]
        }
      ]
    }
  ]
}